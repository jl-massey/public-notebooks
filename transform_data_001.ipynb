{
 "cells": [
  {
   "cell_type": "markdown",
   "id": "4fd89785",
   "metadata": {},
   "source": [
    "## Programming Question 1:"
   ]
  },
  {
   "cell_type": "markdown",
   "id": "f663305e",
   "metadata": {},
   "source": [
    "#### Please transform/wrangle the following response to be converted to...:\n",
    "\n",
    "```json\n",
    "[\n",
    "  [\n",
    "    {\n",
    "    \"longValue\": 1\n",
    "    },\n",
    "    {\n",
    "    \"longValue\": 11\n",
    "    },\n",
    "    {\n",
    "    \"stringValue\": \"ACTIVE\"\n",
    "    },\n",
    "    {\n",
    "    \"stringValue\": \"2021-08-07\"\n",
    "    },\n",
    "    {\n",
    "    \"stringValue\": \"7ad65a58-776f-44bb-87e5-9a618eb156f0\"\n",
    "    },\n",
    "    {\n",
    "    \"doubleValue\": 1630367316\n",
    "    },\n",
    "    {\n",
    "    \"doubleValue\": 700\n",
    "    }\n",
    "  ],\n",
    "  [\n",
    "    {\n",
    "    \"longValue\": 2\n",
    "    },\n",
    "    {\n",
    "    \"longValue\": 22\n",
    "    },\n",
    "    {\n",
    "    \"stringValue\": \"PENDING\"\n",
    "    },\n",
    "    {\n",
    "    \"stringValue\": \"2021-07-22\"\n",
    "    },\n",
    "    {\n",
    "    \"stringValue\": \"db1c859d-674c-446e-bff7-6a53af0a096c\"\n",
    "    },\n",
    "    {\n",
    "    \"doubleValue\": 1627652888\n",
    "    },\n",
    "    {\n",
    "    \"doubleValue\": 800\n",
    "    }\n",
    "  ]\n",
    "]\n",
    "```\n",
    "\n",
    "####  ... to the following response:\n",
    "```json\n",
    "[\n",
    "  {\n",
    "    \"loan_id\": 1,\n",
    "    \"merchant_id\": 11,\n",
    "    \"loan_status\": \"ACTIVE\",\n",
    "    \"date\": \"2021-08-07\",\n",
    "    \"version_id\": \"7ad65a58-776f-44bb-87e5-9a618eb156f0\",\n",
    "    \"version_ts\": 1630367316,\n",
    "    \"amount\": 700\n",
    "  },\n",
    "  {\n",
    "    \"loan_id\": 2,\n",
    "    \"merchant_id\": 22,\n",
    "    \"loan_status\": \"PENDING\",\n",
    "    \"date\": \"2021-07-22\",\n",
    "    \"version_id\": \"db1c859d-674c-446e-bff7-6a53af0a096c\",\n",
    "    \"version_ts\": 1627652888,\n",
    "    \"amount\": 800\n",
    "  }\n",
    "]\n",
    "```"
   ]
  },
  {
   "cell_type": "code",
   "execution_count": null,
   "id": "ae6ef476",
   "metadata": {},
   "outputs": [],
   "source": [
    "input_response = [\n",
    "    [\n",
    "        {\"longValue\": 1},\n",
    "        {\"longValue\": 11},\n",
    "        {\"stringValue\": \"ACTIVE\"},\n",
    "        {\"stringValue\": \"2021-08-07\"},\n",
    "        {\"stringValue\": \"7ad65a58-776f-44bb-87e5-9a618eb156f0\"},\n",
    "        {\"doubleValue\": 1630367316},{\"doubleValue\": 700}\n",
    "    ],\n",
    "    [\n",
    "        {\"longValue\": 2},\n",
    "        {\"longValue\": 22},\n",
    "        {\"stringValue\": \"PENDING\"},\n",
    "        {\"stringValue\": \"2021-07-22\"},\n",
    "        {\"stringValue\": \"db1c859d-674c-446e-bff7-6a53af0a096c\"},\n",
    "        {\"doubleValue\": 1627652888},\n",
    "        {\"doubleValue\": 800}\n",
    "    ]\n",
    "]\n",
    "\n",
    "columns = [\"loan_id\", \"merchant_id\", \"loan_status\", \"date\", \"version_id\", \"version_ts\", \"amount\"]"
   ]
  },
  {
   "cell_type": "code",
   "execution_count": null,
   "id": "a0a0bcb3",
   "metadata": {},
   "outputs": [],
   "source": [
    "def transform(input_response, columns):\n",
    "    result = []\n",
    "    ## Write yor logic here:\n",
    "    \n",
    "    \n",
    "    return result"
   ]
  },
  {
   "cell_type": "code",
   "execution_count": null,
   "id": "f3684c4f",
   "metadata": {
    "scrolled": true
   },
   "outputs": [],
   "source": [
    "result = transform(input_response, columns)\n",
    "result"
   ]
  }
 ],
 "metadata": {
  "kernelspec": {
   "display_name": "Python 3 (ipykernel)",
   "language": "python",
   "name": "python3"
  },
  "language_info": {
   "codemirror_mode": {
    "name": "ipython",
    "version": 3
   },
   "file_extension": ".py",
   "mimetype": "text/x-python",
   "name": "python",
   "nbconvert_exporter": "python",
   "pygments_lexer": "ipython3",
   "version": "3.8.5"
  }
 },
 "nbformat": 4,
 "nbformat_minor": 5
}
